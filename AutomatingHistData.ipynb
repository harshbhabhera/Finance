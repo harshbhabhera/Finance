{
  "nbformat": 4,
  "nbformat_minor": 0,
  "metadata": {
    "colab": {
      "name": "AutomatingHistData.ipynb",
      "provenance": [],
      "collapsed_sections": []
    },
    "kernelspec": {
      "name": "python3",
      "display_name": "Python 3"
    }
  },
  "cells": [
    {
      "cell_type": "code",
      "metadata": {
        "id": "GZ6e2DLeZRv1",
        "colab_type": "code",
        "colab": {}
      },
      "source": [
        "import pandas as pd\n",
        "import numpy as np"
      ],
      "execution_count": 0,
      "outputs": []
    },
    {
      "cell_type": "code",
      "metadata": {
        "id": "Z3quVfp1Z_o3",
        "colab_type": "code",
        "outputId": "0770f349-56e7-45b2-b425-aa946e37e93e",
        "colab": {
          "base_uri": "https://localhost:8080/",
          "height": 243
        }
      },
      "source": [
        "!pip install nsepy\n"
      ],
      "execution_count": 0,
      "outputs": [
        {
          "output_type": "stream",
          "text": [
            "Requirement already satisfied: nsepy in /usr/local/lib/python3.6/dist-packages (0.7)\n",
            "Requirement already satisfied: requests in /usr/local/lib/python3.6/dist-packages (from nsepy) (2.21.0)\n",
            "Requirement already satisfied: pandas in /usr/local/lib/python3.6/dist-packages (from nsepy) (0.25.3)\n",
            "Requirement already satisfied: six in /usr/local/lib/python3.6/dist-packages (from nsepy) (1.12.0)\n",
            "Requirement already satisfied: click in /usr/local/lib/python3.6/dist-packages (from nsepy) (7.0)\n",
            "Requirement already satisfied: numpy in /usr/local/lib/python3.6/dist-packages (from nsepy) (1.17.4)\n",
            "Requirement already satisfied: beautifulsoup4 in /usr/local/lib/python3.6/dist-packages (from nsepy) (4.6.3)\n",
            "Requirement already satisfied: certifi>=2017.4.17 in /usr/local/lib/python3.6/dist-packages (from requests->nsepy) (2019.9.11)\n",
            "Requirement already satisfied: idna<2.9,>=2.5 in /usr/local/lib/python3.6/dist-packages (from requests->nsepy) (2.8)\n",
            "Requirement already satisfied: urllib3<1.25,>=1.21.1 in /usr/local/lib/python3.6/dist-packages (from requests->nsepy) (1.24.3)\n",
            "Requirement already satisfied: chardet<3.1.0,>=3.0.2 in /usr/local/lib/python3.6/dist-packages (from requests->nsepy) (3.0.4)\n",
            "Requirement already satisfied: python-dateutil>=2.6.1 in /usr/local/lib/python3.6/dist-packages (from pandas->nsepy) (2.6.1)\n",
            "Requirement already satisfied: pytz>=2017.2 in /usr/local/lib/python3.6/dist-packages (from pandas->nsepy) (2018.9)\n"
          ],
          "name": "stdout"
        }
      ]
    },
    {
      "cell_type": "code",
      "metadata": {
        "id": "M23IpJkubzxz",
        "colab_type": "code",
        "colab": {}
      },
      "source": [
        "from nsepy import get_history"
      ],
      "execution_count": 0,
      "outputs": []
    },
    {
      "cell_type": "code",
      "metadata": {
        "id": "xQjPPVErb-Bw",
        "colab_type": "code",
        "colab": {}
      },
      "source": [
        "from nsepy.derivatives import get_expiry_date"
      ],
      "execution_count": 0,
      "outputs": []
    },
    {
      "cell_type": "code",
      "metadata": {
        "id": "RS-0QBYncCg0",
        "colab_type": "code",
        "colab": {}
      },
      "source": [
        "from datetime import date"
      ],
      "execution_count": 0,
      "outputs": []
    },
    {
      "cell_type": "code",
      "metadata": {
        "id": "m0cxcAPOcJmE",
        "colab_type": "code",
        "colab": {}
      },
      "source": [
        "expirylist = []"
      ],
      "execution_count": 0,
      "outputs": []
    },
    {
      "cell_type": "code",
      "metadata": {
        "id": "x1X7YbJ4cw3X",
        "colab_type": "code",
        "colab": {}
      },
      "source": [
        "j=0"
      ],
      "execution_count": 0,
      "outputs": []
    },
    {
      "cell_type": "code",
      "metadata": {
        "id": "Khiz6Duqcxxa",
        "colab_type": "code",
        "colab": {}
      },
      "source": [
        "for j in range(2005,2020):\n",
        "\n",
        "      i=0\n",
        "      for i in range(1,13):\n",
        "        {\n",
        "        expirylist.append(get_expiry_date(year= j, month= i))\n",
        "        }\n",
        "\n",
        "\n"
      ],
      "execution_count": 0,
      "outputs": []
    },
    {
      "cell_type": "code",
      "metadata": {
        "id": "Bq7ly8WkeD-p",
        "colab_type": "code",
        "colab": {}
      },
      "source": [
        "df = get_history(symbol=\"HDFCBANK\" , start = date(2005,1,1) , end = date(2020,1,1))"
      ],
      "execution_count": 0,
      "outputs": []
    },
    {
      "cell_type": "code",
      "metadata": {
        "id": "9fCYov6Ne7lW",
        "colab_type": "code",
        "colab": {}
      },
      "source": [
        "dfi = df.index"
      ],
      "execution_count": 0,
      "outputs": []
    },
    {
      "cell_type": "code",
      "metadata": {
        "id": "s0TOb2L7fsrg",
        "colab_type": "code",
        "outputId": "10835e1b-c3e6-4be4-f6a6-13e38ce8eff0",
        "colab": {
          "base_uri": "https://localhost:8080/",
          "height": 121
        }
      },
      "source": [
        "dfi"
      ],
      "execution_count": 0,
      "outputs": [
        {
          "output_type": "execute_result",
          "data": {
            "text/plain": [
              "Index([2005-01-03, 2005-01-04, 2005-01-05, 2005-01-06, 2005-01-07, 2005-01-10,\n",
              "       2005-01-11, 2005-01-12, 2005-01-13, 2005-01-14,\n",
              "       ...\n",
              "       2019-11-22, 2019-11-25, 2019-11-26, 2019-11-27, 2019-11-28, 2019-11-29,\n",
              "       2019-12-02, 2019-12-03, 2019-12-04, 2019-12-05],\n",
              "      dtype='object', name='Date', length=3703)"
            ]
          },
          "metadata": {
            "tags": []
          },
          "execution_count": 54
        }
      ]
    },
    {
      "cell_type": "code",
      "metadata": {
        "id": "-rhgNdcIfwnx",
        "colab_type": "code",
        "colab": {}
      },
      "source": [
        "dfe = []"
      ],
      "execution_count": 0,
      "outputs": []
    },
    {
      "cell_type": "code",
      "metadata": {
        "id": "JumR_ib9mwXE",
        "colab_type": "code",
        "colab": {}
      },
      "source": [
        "j = 0"
      ],
      "execution_count": 0,
      "outputs": []
    },
    {
      "cell_type": "code",
      "metadata": {
        "id": "f6vPwWvxf-e9",
        "colab_type": "code",
        "colab": {}
      },
      "source": [
        "for i in range(0,len(dfi)):\n",
        "\n",
        "      if (dfi[i] <= expirylist[j]):\n",
        "          dfe.append(expirylist[j])\n",
        "      \n",
        "      else:\n",
        "          j = j + 1\n",
        "          dfe.append(expirylist[j])\n",
        "      "
      ],
      "execution_count": 0,
      "outputs": []
    },
    {
      "cell_type": "code",
      "metadata": {
        "id": "RxDPTXjii6su",
        "colab_type": "code",
        "colab": {}
      },
      "source": [
        "stock_fut = pd.DataFrame()"
      ],
      "execution_count": 0,
      "outputs": []
    },
    {
      "cell_type": "code",
      "metadata": {
        "id": "bjCny9winD3b",
        "colab_type": "code",
        "colab": {}
      },
      "source": [
        "for i in range(0, len(dfi)):\n",
        "  stk = get_history(symbol= \"HDFCBANK\" , start= dfi[i] , end = dfi[i] , futures= True, expiry_date= dfe[i])\n",
        "  stock_fut = pd.concat([stock_fut, stk])"
      ],
      "execution_count": 0,
      "outputs": []
    },
    {
      "cell_type": "code",
      "metadata": {
        "id": "YwtHhmlrnyIc",
        "colab_type": "code",
        "outputId": "60c6fbac-942e-438b-d3a5-bdfb42c4f82e",
        "colab": {
          "base_uri": "https://localhost:8080/",
          "height": 337
        }
      },
      "source": [
        "stock_fut.head()"
      ],
      "execution_count": 76,
      "outputs": [
        {
          "output_type": "execute_result",
          "data": {
            "text/html": [
              "<div>\n",
              "<style scoped>\n",
              "    .dataframe tbody tr th:only-of-type {\n",
              "        vertical-align: middle;\n",
              "    }\n",
              "\n",
              "    .dataframe tbody tr th {\n",
              "        vertical-align: top;\n",
              "    }\n",
              "\n",
              "    .dataframe thead th {\n",
              "        text-align: right;\n",
              "    }\n",
              "</style>\n",
              "<table border=\"1\" class=\"dataframe\">\n",
              "  <thead>\n",
              "    <tr style=\"text-align: right;\">\n",
              "      <th></th>\n",
              "      <th>Symbol</th>\n",
              "      <th>Expiry</th>\n",
              "      <th>Open</th>\n",
              "      <th>High</th>\n",
              "      <th>Low</th>\n",
              "      <th>Close</th>\n",
              "      <th>Last</th>\n",
              "      <th>Settle Price</th>\n",
              "      <th>Number of Contracts</th>\n",
              "      <th>Turnover</th>\n",
              "      <th>Open Interest</th>\n",
              "      <th>Change in OI</th>\n",
              "      <th>Underlying</th>\n",
              "    </tr>\n",
              "    <tr>\n",
              "      <th>Date</th>\n",
              "      <th></th>\n",
              "      <th></th>\n",
              "      <th></th>\n",
              "      <th></th>\n",
              "      <th></th>\n",
              "      <th></th>\n",
              "      <th></th>\n",
              "      <th></th>\n",
              "      <th></th>\n",
              "      <th></th>\n",
              "      <th></th>\n",
              "      <th></th>\n",
              "      <th></th>\n",
              "    </tr>\n",
              "  </thead>\n",
              "  <tbody>\n",
              "    <tr>\n",
              "      <th>2005-01-03</th>\n",
              "      <td>HDFCBANK</td>\n",
              "      <td>2005-01-27</td>\n",
              "      <td>520.55</td>\n",
              "      <td>527.65</td>\n",
              "      <td>520.55</td>\n",
              "      <td>526.00</td>\n",
              "      <td>526.90</td>\n",
              "      <td>526.00</td>\n",
              "      <td>341</td>\n",
              "      <td>143487000.0</td>\n",
              "      <td>578400</td>\n",
              "      <td>10400</td>\n",
              "      <td>525.25</td>\n",
              "    </tr>\n",
              "    <tr>\n",
              "      <th>2005-01-04</th>\n",
              "      <td>HDFCBANK</td>\n",
              "      <td>2005-01-27</td>\n",
              "      <td>526.10</td>\n",
              "      <td>532.90</td>\n",
              "      <td>521.10</td>\n",
              "      <td>523.85</td>\n",
              "      <td>525.25</td>\n",
              "      <td>523.85</td>\n",
              "      <td>533</td>\n",
              "      <td>224570000.0</td>\n",
              "      <td>664800</td>\n",
              "      <td>86400</td>\n",
              "      <td>519.45</td>\n",
              "    </tr>\n",
              "    <tr>\n",
              "      <th>2005-01-05</th>\n",
              "      <td>HDFCBANK</td>\n",
              "      <td>2005-01-27</td>\n",
              "      <td>515.00</td>\n",
              "      <td>520.00</td>\n",
              "      <td>490.00</td>\n",
              "      <td>501.85</td>\n",
              "      <td>498.65</td>\n",
              "      <td>501.85</td>\n",
              "      <td>945</td>\n",
              "      <td>384470000.0</td>\n",
              "      <td>652000</td>\n",
              "      <td>-12800</td>\n",
              "      <td>500.05</td>\n",
              "    </tr>\n",
              "    <tr>\n",
              "      <th>2005-01-06</th>\n",
              "      <td>HDFCBANK</td>\n",
              "      <td>2005-01-27</td>\n",
              "      <td>504.00</td>\n",
              "      <td>504.00</td>\n",
              "      <td>481.15</td>\n",
              "      <td>486.70</td>\n",
              "      <td>489.65</td>\n",
              "      <td>486.70</td>\n",
              "      <td>535</td>\n",
              "      <td>210204000.0</td>\n",
              "      <td>660800</td>\n",
              "      <td>8800</td>\n",
              "      <td>485.15</td>\n",
              "    </tr>\n",
              "    <tr>\n",
              "      <th>2005-01-07</th>\n",
              "      <td>HDFCBANK</td>\n",
              "      <td>2005-01-27</td>\n",
              "      <td>489.50</td>\n",
              "      <td>499.00</td>\n",
              "      <td>486.25</td>\n",
              "      <td>493.50</td>\n",
              "      <td>499.00</td>\n",
              "      <td>493.50</td>\n",
              "      <td>374</td>\n",
              "      <td>146984000.0</td>\n",
              "      <td>680000</td>\n",
              "      <td>19200</td>\n",
              "      <td>490.25</td>\n",
              "    </tr>\n",
              "  </tbody>\n",
              "</table>\n",
              "</div>"
            ],
            "text/plain": [
              "              Symbol      Expiry    Open  ...  Open Interest  Change in OI  Underlying\n",
              "Date                                      ...                                         \n",
              "2005-01-03  HDFCBANK  2005-01-27  520.55  ...         578400         10400      525.25\n",
              "2005-01-04  HDFCBANK  2005-01-27  526.10  ...         664800         86400      519.45\n",
              "2005-01-05  HDFCBANK  2005-01-27  515.00  ...         652000        -12800      500.05\n",
              "2005-01-06  HDFCBANK  2005-01-27  504.00  ...         660800          8800      485.15\n",
              "2005-01-07  HDFCBANK  2005-01-27  489.50  ...         680000         19200      490.25\n",
              "\n",
              "[5 rows x 13 columns]"
            ]
          },
          "metadata": {
            "tags": []
          },
          "execution_count": 76
        }
      ]
    },
    {
      "cell_type": "code",
      "metadata": {
        "id": "KV832VRJqWpL",
        "colab_type": "code",
        "colab": {}
      },
      "source": [
        "stock_fut.to_csv(r\"C:\\Users\\91982\\Desktop\\HDFCBANK.csv\")"
      ],
      "execution_count": 0,
      "outputs": []
    },
    {
      "cell_type": "code",
      "metadata": {
        "id": "tzyJ7JNk24o9",
        "colab_type": "code",
        "colab": {
          "base_uri": "https://localhost:8080/",
          "height": 637
        },
        "outputId": "440ed691-a261-45d3-a465-0f869da5edf8"
      },
      "source": [
        "stock_fut"
      ],
      "execution_count": 83,
      "outputs": [
        {
          "output_type": "execute_result",
          "data": {
            "text/html": [
              "<div>\n",
              "<style scoped>\n",
              "    .dataframe tbody tr th:only-of-type {\n",
              "        vertical-align: middle;\n",
              "    }\n",
              "\n",
              "    .dataframe tbody tr th {\n",
              "        vertical-align: top;\n",
              "    }\n",
              "\n",
              "    .dataframe thead th {\n",
              "        text-align: right;\n",
              "    }\n",
              "</style>\n",
              "<table border=\"1\" class=\"dataframe\">\n",
              "  <thead>\n",
              "    <tr style=\"text-align: right;\">\n",
              "      <th></th>\n",
              "      <th>Symbol</th>\n",
              "      <th>Expiry</th>\n",
              "      <th>Open</th>\n",
              "      <th>High</th>\n",
              "      <th>Low</th>\n",
              "      <th>Close</th>\n",
              "      <th>Last</th>\n",
              "      <th>Settle Price</th>\n",
              "      <th>Number of Contracts</th>\n",
              "      <th>Turnover</th>\n",
              "      <th>Open Interest</th>\n",
              "      <th>Change in OI</th>\n",
              "      <th>Underlying</th>\n",
              "    </tr>\n",
              "    <tr>\n",
              "      <th>Date</th>\n",
              "      <th></th>\n",
              "      <th></th>\n",
              "      <th></th>\n",
              "      <th></th>\n",
              "      <th></th>\n",
              "      <th></th>\n",
              "      <th></th>\n",
              "      <th></th>\n",
              "      <th></th>\n",
              "      <th></th>\n",
              "      <th></th>\n",
              "      <th></th>\n",
              "      <th></th>\n",
              "    </tr>\n",
              "  </thead>\n",
              "  <tbody>\n",
              "    <tr>\n",
              "      <th>2005-01-03</th>\n",
              "      <td>HDFCBANK</td>\n",
              "      <td>2005-01-27</td>\n",
              "      <td>520.55</td>\n",
              "      <td>527.65</td>\n",
              "      <td>520.55</td>\n",
              "      <td>526.00</td>\n",
              "      <td>526.90</td>\n",
              "      <td>526.00</td>\n",
              "      <td>341</td>\n",
              "      <td>1.434870e+08</td>\n",
              "      <td>578400</td>\n",
              "      <td>10400</td>\n",
              "      <td>525.25</td>\n",
              "    </tr>\n",
              "    <tr>\n",
              "      <th>2005-01-04</th>\n",
              "      <td>HDFCBANK</td>\n",
              "      <td>2005-01-27</td>\n",
              "      <td>526.10</td>\n",
              "      <td>532.90</td>\n",
              "      <td>521.10</td>\n",
              "      <td>523.85</td>\n",
              "      <td>525.25</td>\n",
              "      <td>523.85</td>\n",
              "      <td>533</td>\n",
              "      <td>2.245700e+08</td>\n",
              "      <td>664800</td>\n",
              "      <td>86400</td>\n",
              "      <td>519.45</td>\n",
              "    </tr>\n",
              "    <tr>\n",
              "      <th>2005-01-05</th>\n",
              "      <td>HDFCBANK</td>\n",
              "      <td>2005-01-27</td>\n",
              "      <td>515.00</td>\n",
              "      <td>520.00</td>\n",
              "      <td>490.00</td>\n",
              "      <td>501.85</td>\n",
              "      <td>498.65</td>\n",
              "      <td>501.85</td>\n",
              "      <td>945</td>\n",
              "      <td>3.844700e+08</td>\n",
              "      <td>652000</td>\n",
              "      <td>-12800</td>\n",
              "      <td>500.05</td>\n",
              "    </tr>\n",
              "    <tr>\n",
              "      <th>2005-01-06</th>\n",
              "      <td>HDFCBANK</td>\n",
              "      <td>2005-01-27</td>\n",
              "      <td>504.00</td>\n",
              "      <td>504.00</td>\n",
              "      <td>481.15</td>\n",
              "      <td>486.70</td>\n",
              "      <td>489.65</td>\n",
              "      <td>486.70</td>\n",
              "      <td>535</td>\n",
              "      <td>2.102040e+08</td>\n",
              "      <td>660800</td>\n",
              "      <td>8800</td>\n",
              "      <td>485.15</td>\n",
              "    </tr>\n",
              "    <tr>\n",
              "      <th>2005-01-07</th>\n",
              "      <td>HDFCBANK</td>\n",
              "      <td>2005-01-27</td>\n",
              "      <td>489.50</td>\n",
              "      <td>499.00</td>\n",
              "      <td>486.25</td>\n",
              "      <td>493.50</td>\n",
              "      <td>499.00</td>\n",
              "      <td>493.50</td>\n",
              "      <td>374</td>\n",
              "      <td>1.469840e+08</td>\n",
              "      <td>680000</td>\n",
              "      <td>19200</td>\n",
              "      <td>490.25</td>\n",
              "    </tr>\n",
              "    <tr>\n",
              "      <th>...</th>\n",
              "      <td>...</td>\n",
              "      <td>...</td>\n",
              "      <td>...</td>\n",
              "      <td>...</td>\n",
              "      <td>...</td>\n",
              "      <td>...</td>\n",
              "      <td>...</td>\n",
              "      <td>...</td>\n",
              "      <td>...</td>\n",
              "      <td>...</td>\n",
              "      <td>...</td>\n",
              "      <td>...</td>\n",
              "      <td>...</td>\n",
              "    </tr>\n",
              "    <tr>\n",
              "      <th>2019-11-29</th>\n",
              "      <td>HDFCBANK</td>\n",
              "      <td>2019-12-26</td>\n",
              "      <td>1272.85</td>\n",
              "      <td>1282.15</td>\n",
              "      <td>1256.60</td>\n",
              "      <td>1277.40</td>\n",
              "      <td>1277.25</td>\n",
              "      <td>1277.40</td>\n",
              "      <td>22835</td>\n",
              "      <td>1.448991e+10</td>\n",
              "      <td>25279500</td>\n",
              "      <td>85000</td>\n",
              "      <td>1274.95</td>\n",
              "    </tr>\n",
              "    <tr>\n",
              "      <th>2019-12-02</th>\n",
              "      <td>HDFCBANK</td>\n",
              "      <td>2019-12-26</td>\n",
              "      <td>1275.80</td>\n",
              "      <td>1280.00</td>\n",
              "      <td>1263.00</td>\n",
              "      <td>1268.50</td>\n",
              "      <td>1268.00</td>\n",
              "      <td>1268.50</td>\n",
              "      <td>12658</td>\n",
              "      <td>8.032629e+09</td>\n",
              "      <td>25272000</td>\n",
              "      <td>-7500</td>\n",
              "      <td>1265.75</td>\n",
              "    </tr>\n",
              "    <tr>\n",
              "      <th>2019-12-03</th>\n",
              "      <td>HDFCBANK</td>\n",
              "      <td>2019-12-26</td>\n",
              "      <td>1270.55</td>\n",
              "      <td>1270.55</td>\n",
              "      <td>1260.00</td>\n",
              "      <td>1261.90</td>\n",
              "      <td>1262.50</td>\n",
              "      <td>1261.90</td>\n",
              "      <td>9858</td>\n",
              "      <td>6.226919e+09</td>\n",
              "      <td>25297500</td>\n",
              "      <td>25500</td>\n",
              "      <td>1255.40</td>\n",
              "    </tr>\n",
              "    <tr>\n",
              "      <th>2019-12-04</th>\n",
              "      <td>HDFCBANK</td>\n",
              "      <td>2019-12-26</td>\n",
              "      <td>1261.30</td>\n",
              "      <td>1261.80</td>\n",
              "      <td>1240.70</td>\n",
              "      <td>1258.35</td>\n",
              "      <td>1258.75</td>\n",
              "      <td>1258.35</td>\n",
              "      <td>16949</td>\n",
              "      <td>1.060900e+10</td>\n",
              "      <td>26137000</td>\n",
              "      <td>839500</td>\n",
              "      <td>1251.65</td>\n",
              "    </tr>\n",
              "    <tr>\n",
              "      <th>2019-12-05</th>\n",
              "      <td>HDFCBANK</td>\n",
              "      <td>2019-12-26</td>\n",
              "      <td>1261.90</td>\n",
              "      <td>1264.90</td>\n",
              "      <td>1246.75</td>\n",
              "      <td>1250.85</td>\n",
              "      <td>1250.60</td>\n",
              "      <td>1250.85</td>\n",
              "      <td>16691</td>\n",
              "      <td>1.047229e+10</td>\n",
              "      <td>26031500</td>\n",
              "      <td>-105500</td>\n",
              "      <td>1245.60</td>\n",
              "    </tr>\n",
              "  </tbody>\n",
              "</table>\n",
              "<p>3661 rows × 13 columns</p>\n",
              "</div>"
            ],
            "text/plain": [
              "              Symbol      Expiry  ...  Change in OI  Underlying\n",
              "Date                              ...                          \n",
              "2005-01-03  HDFCBANK  2005-01-27  ...         10400      525.25\n",
              "2005-01-04  HDFCBANK  2005-01-27  ...         86400      519.45\n",
              "2005-01-05  HDFCBANK  2005-01-27  ...        -12800      500.05\n",
              "2005-01-06  HDFCBANK  2005-01-27  ...          8800      485.15\n",
              "2005-01-07  HDFCBANK  2005-01-27  ...         19200      490.25\n",
              "...              ...         ...  ...           ...         ...\n",
              "2019-11-29  HDFCBANK  2019-12-26  ...         85000     1274.95\n",
              "2019-12-02  HDFCBANK  2019-12-26  ...         -7500     1265.75\n",
              "2019-12-03  HDFCBANK  2019-12-26  ...         25500     1255.40\n",
              "2019-12-04  HDFCBANK  2019-12-26  ...        839500     1251.65\n",
              "2019-12-05  HDFCBANK  2019-12-26  ...       -105500     1245.60\n",
              "\n",
              "[3661 rows x 13 columns]"
            ]
          },
          "metadata": {
            "tags": []
          },
          "execution_count": 83
        }
      ]
    },
    {
      "cell_type": "code",
      "metadata": {
        "id": "A6EuL6e780-P",
        "colab_type": "code",
        "colab": {}
      },
      "source": [
        "from google.colab import files\n"
      ],
      "execution_count": 0,
      "outputs": []
    },
    {
      "cell_type": "code",
      "metadata": {
        "id": "BmBQMfcj-HMq",
        "colab_type": "code",
        "colab": {}
      },
      "source": [
        "stock_fut.to_csv('filename.csv') \n",
        "files.download('filename.csv')"
      ],
      "execution_count": 0,
      "outputs": []
    },
    {
      "cell_type": "code",
      "metadata": {
        "id": "LTdN5O8q-LVR",
        "colab_type": "code",
        "colab": {}
      },
      "source": [
        "s = stock_fut"
      ],
      "execution_count": 0,
      "outputs": []
    },
    {
      "cell_type": "code",
      "metadata": {
        "id": "DNtBL1NA-31u",
        "colab_type": "code",
        "colab": {
          "base_uri": "https://localhost:8080/",
          "height": 337
        },
        "outputId": "032ad5a4-65cf-4fa4-949c-79a87b5b747b"
      },
      "source": [
        "s.head()"
      ],
      "execution_count": 87,
      "outputs": [
        {
          "output_type": "execute_result",
          "data": {
            "text/html": [
              "<div>\n",
              "<style scoped>\n",
              "    .dataframe tbody tr th:only-of-type {\n",
              "        vertical-align: middle;\n",
              "    }\n",
              "\n",
              "    .dataframe tbody tr th {\n",
              "        vertical-align: top;\n",
              "    }\n",
              "\n",
              "    .dataframe thead th {\n",
              "        text-align: right;\n",
              "    }\n",
              "</style>\n",
              "<table border=\"1\" class=\"dataframe\">\n",
              "  <thead>\n",
              "    <tr style=\"text-align: right;\">\n",
              "      <th></th>\n",
              "      <th>Symbol</th>\n",
              "      <th>Expiry</th>\n",
              "      <th>Open</th>\n",
              "      <th>High</th>\n",
              "      <th>Low</th>\n",
              "      <th>Close</th>\n",
              "      <th>Last</th>\n",
              "      <th>Settle Price</th>\n",
              "      <th>Number of Contracts</th>\n",
              "      <th>Turnover</th>\n",
              "      <th>Open Interest</th>\n",
              "      <th>Change in OI</th>\n",
              "      <th>Underlying</th>\n",
              "    </tr>\n",
              "    <tr>\n",
              "      <th>Date</th>\n",
              "      <th></th>\n",
              "      <th></th>\n",
              "      <th></th>\n",
              "      <th></th>\n",
              "      <th></th>\n",
              "      <th></th>\n",
              "      <th></th>\n",
              "      <th></th>\n",
              "      <th></th>\n",
              "      <th></th>\n",
              "      <th></th>\n",
              "      <th></th>\n",
              "      <th></th>\n",
              "    </tr>\n",
              "  </thead>\n",
              "  <tbody>\n",
              "    <tr>\n",
              "      <th>2005-01-03</th>\n",
              "      <td>HDFCBANK</td>\n",
              "      <td>2005-01-27</td>\n",
              "      <td>520.55</td>\n",
              "      <td>527.65</td>\n",
              "      <td>520.55</td>\n",
              "      <td>526.00</td>\n",
              "      <td>526.90</td>\n",
              "      <td>526.00</td>\n",
              "      <td>341</td>\n",
              "      <td>143487000.0</td>\n",
              "      <td>578400</td>\n",
              "      <td>10400</td>\n",
              "      <td>525.25</td>\n",
              "    </tr>\n",
              "    <tr>\n",
              "      <th>2005-01-04</th>\n",
              "      <td>HDFCBANK</td>\n",
              "      <td>2005-01-27</td>\n",
              "      <td>526.10</td>\n",
              "      <td>532.90</td>\n",
              "      <td>521.10</td>\n",
              "      <td>523.85</td>\n",
              "      <td>525.25</td>\n",
              "      <td>523.85</td>\n",
              "      <td>533</td>\n",
              "      <td>224570000.0</td>\n",
              "      <td>664800</td>\n",
              "      <td>86400</td>\n",
              "      <td>519.45</td>\n",
              "    </tr>\n",
              "    <tr>\n",
              "      <th>2005-01-05</th>\n",
              "      <td>HDFCBANK</td>\n",
              "      <td>2005-01-27</td>\n",
              "      <td>515.00</td>\n",
              "      <td>520.00</td>\n",
              "      <td>490.00</td>\n",
              "      <td>501.85</td>\n",
              "      <td>498.65</td>\n",
              "      <td>501.85</td>\n",
              "      <td>945</td>\n",
              "      <td>384470000.0</td>\n",
              "      <td>652000</td>\n",
              "      <td>-12800</td>\n",
              "      <td>500.05</td>\n",
              "    </tr>\n",
              "    <tr>\n",
              "      <th>2005-01-06</th>\n",
              "      <td>HDFCBANK</td>\n",
              "      <td>2005-01-27</td>\n",
              "      <td>504.00</td>\n",
              "      <td>504.00</td>\n",
              "      <td>481.15</td>\n",
              "      <td>486.70</td>\n",
              "      <td>489.65</td>\n",
              "      <td>486.70</td>\n",
              "      <td>535</td>\n",
              "      <td>210204000.0</td>\n",
              "      <td>660800</td>\n",
              "      <td>8800</td>\n",
              "      <td>485.15</td>\n",
              "    </tr>\n",
              "    <tr>\n",
              "      <th>2005-01-07</th>\n",
              "      <td>HDFCBANK</td>\n",
              "      <td>2005-01-27</td>\n",
              "      <td>489.50</td>\n",
              "      <td>499.00</td>\n",
              "      <td>486.25</td>\n",
              "      <td>493.50</td>\n",
              "      <td>499.00</td>\n",
              "      <td>493.50</td>\n",
              "      <td>374</td>\n",
              "      <td>146984000.0</td>\n",
              "      <td>680000</td>\n",
              "      <td>19200</td>\n",
              "      <td>490.25</td>\n",
              "    </tr>\n",
              "  </tbody>\n",
              "</table>\n",
              "</div>"
            ],
            "text/plain": [
              "              Symbol      Expiry    Open  ...  Open Interest  Change in OI  Underlying\n",
              "Date                                      ...                                         \n",
              "2005-01-03  HDFCBANK  2005-01-27  520.55  ...         578400         10400      525.25\n",
              "2005-01-04  HDFCBANK  2005-01-27  526.10  ...         664800         86400      519.45\n",
              "2005-01-05  HDFCBANK  2005-01-27  515.00  ...         652000        -12800      500.05\n",
              "2005-01-06  HDFCBANK  2005-01-27  504.00  ...         660800          8800      485.15\n",
              "2005-01-07  HDFCBANK  2005-01-27  489.50  ...         680000         19200      490.25\n",
              "\n",
              "[5 rows x 13 columns]"
            ]
          },
          "metadata": {
            "tags": []
          },
          "execution_count": 87
        }
      ]
    },
    {
      "cell_type": "code",
      "metadata": {
        "id": "DI1D6oc9AZ5C",
        "colab_type": "code",
        "colab": {
          "base_uri": "https://localhost:8080/",
          "height": 637
        },
        "outputId": "8462f650-4d87-4800-8aef-46600390f12f"
      },
      "source": [
        "s.drop(['Symbol'], axis = 1)"
      ],
      "execution_count": 94,
      "outputs": [
        {
          "output_type": "execute_result",
          "data": {
            "text/html": [
              "<div>\n",
              "<style scoped>\n",
              "    .dataframe tbody tr th:only-of-type {\n",
              "        vertical-align: middle;\n",
              "    }\n",
              "\n",
              "    .dataframe tbody tr th {\n",
              "        vertical-align: top;\n",
              "    }\n",
              "\n",
              "    .dataframe thead th {\n",
              "        text-align: right;\n",
              "    }\n",
              "</style>\n",
              "<table border=\"1\" class=\"dataframe\">\n",
              "  <thead>\n",
              "    <tr style=\"text-align: right;\">\n",
              "      <th></th>\n",
              "      <th>Expiry</th>\n",
              "      <th>Open</th>\n",
              "      <th>High</th>\n",
              "      <th>Low</th>\n",
              "      <th>Close</th>\n",
              "      <th>Last</th>\n",
              "      <th>Settle Price</th>\n",
              "      <th>Number of Contracts</th>\n",
              "      <th>Turnover</th>\n",
              "      <th>Open Interest</th>\n",
              "      <th>Change in OI</th>\n",
              "      <th>Underlying</th>\n",
              "    </tr>\n",
              "    <tr>\n",
              "      <th>Date</th>\n",
              "      <th></th>\n",
              "      <th></th>\n",
              "      <th></th>\n",
              "      <th></th>\n",
              "      <th></th>\n",
              "      <th></th>\n",
              "      <th></th>\n",
              "      <th></th>\n",
              "      <th></th>\n",
              "      <th></th>\n",
              "      <th></th>\n",
              "      <th></th>\n",
              "    </tr>\n",
              "  </thead>\n",
              "  <tbody>\n",
              "    <tr>\n",
              "      <th>2005-01-03</th>\n",
              "      <td>2005-01-27</td>\n",
              "      <td>520.55</td>\n",
              "      <td>527.65</td>\n",
              "      <td>520.55</td>\n",
              "      <td>526.00</td>\n",
              "      <td>526.90</td>\n",
              "      <td>526.00</td>\n",
              "      <td>341</td>\n",
              "      <td>1.434870e+08</td>\n",
              "      <td>578400</td>\n",
              "      <td>10400</td>\n",
              "      <td>525.25</td>\n",
              "    </tr>\n",
              "    <tr>\n",
              "      <th>2005-01-04</th>\n",
              "      <td>2005-01-27</td>\n",
              "      <td>526.10</td>\n",
              "      <td>532.90</td>\n",
              "      <td>521.10</td>\n",
              "      <td>523.85</td>\n",
              "      <td>525.25</td>\n",
              "      <td>523.85</td>\n",
              "      <td>533</td>\n",
              "      <td>2.245700e+08</td>\n",
              "      <td>664800</td>\n",
              "      <td>86400</td>\n",
              "      <td>519.45</td>\n",
              "    </tr>\n",
              "    <tr>\n",
              "      <th>2005-01-05</th>\n",
              "      <td>2005-01-27</td>\n",
              "      <td>515.00</td>\n",
              "      <td>520.00</td>\n",
              "      <td>490.00</td>\n",
              "      <td>501.85</td>\n",
              "      <td>498.65</td>\n",
              "      <td>501.85</td>\n",
              "      <td>945</td>\n",
              "      <td>3.844700e+08</td>\n",
              "      <td>652000</td>\n",
              "      <td>-12800</td>\n",
              "      <td>500.05</td>\n",
              "    </tr>\n",
              "    <tr>\n",
              "      <th>2005-01-06</th>\n",
              "      <td>2005-01-27</td>\n",
              "      <td>504.00</td>\n",
              "      <td>504.00</td>\n",
              "      <td>481.15</td>\n",
              "      <td>486.70</td>\n",
              "      <td>489.65</td>\n",
              "      <td>486.70</td>\n",
              "      <td>535</td>\n",
              "      <td>2.102040e+08</td>\n",
              "      <td>660800</td>\n",
              "      <td>8800</td>\n",
              "      <td>485.15</td>\n",
              "    </tr>\n",
              "    <tr>\n",
              "      <th>2005-01-07</th>\n",
              "      <td>2005-01-27</td>\n",
              "      <td>489.50</td>\n",
              "      <td>499.00</td>\n",
              "      <td>486.25</td>\n",
              "      <td>493.50</td>\n",
              "      <td>499.00</td>\n",
              "      <td>493.50</td>\n",
              "      <td>374</td>\n",
              "      <td>1.469840e+08</td>\n",
              "      <td>680000</td>\n",
              "      <td>19200</td>\n",
              "      <td>490.25</td>\n",
              "    </tr>\n",
              "    <tr>\n",
              "      <th>...</th>\n",
              "      <td>...</td>\n",
              "      <td>...</td>\n",
              "      <td>...</td>\n",
              "      <td>...</td>\n",
              "      <td>...</td>\n",
              "      <td>...</td>\n",
              "      <td>...</td>\n",
              "      <td>...</td>\n",
              "      <td>...</td>\n",
              "      <td>...</td>\n",
              "      <td>...</td>\n",
              "      <td>...</td>\n",
              "    </tr>\n",
              "    <tr>\n",
              "      <th>2019-11-29</th>\n",
              "      <td>2019-12-26</td>\n",
              "      <td>1272.85</td>\n",
              "      <td>1282.15</td>\n",
              "      <td>1256.60</td>\n",
              "      <td>1277.40</td>\n",
              "      <td>1277.25</td>\n",
              "      <td>1277.40</td>\n",
              "      <td>22835</td>\n",
              "      <td>1.448991e+10</td>\n",
              "      <td>25279500</td>\n",
              "      <td>85000</td>\n",
              "      <td>1274.95</td>\n",
              "    </tr>\n",
              "    <tr>\n",
              "      <th>2019-12-02</th>\n",
              "      <td>2019-12-26</td>\n",
              "      <td>1275.80</td>\n",
              "      <td>1280.00</td>\n",
              "      <td>1263.00</td>\n",
              "      <td>1268.50</td>\n",
              "      <td>1268.00</td>\n",
              "      <td>1268.50</td>\n",
              "      <td>12658</td>\n",
              "      <td>8.032629e+09</td>\n",
              "      <td>25272000</td>\n",
              "      <td>-7500</td>\n",
              "      <td>1265.75</td>\n",
              "    </tr>\n",
              "    <tr>\n",
              "      <th>2019-12-03</th>\n",
              "      <td>2019-12-26</td>\n",
              "      <td>1270.55</td>\n",
              "      <td>1270.55</td>\n",
              "      <td>1260.00</td>\n",
              "      <td>1261.90</td>\n",
              "      <td>1262.50</td>\n",
              "      <td>1261.90</td>\n",
              "      <td>9858</td>\n",
              "      <td>6.226919e+09</td>\n",
              "      <td>25297500</td>\n",
              "      <td>25500</td>\n",
              "      <td>1255.40</td>\n",
              "    </tr>\n",
              "    <tr>\n",
              "      <th>2019-12-04</th>\n",
              "      <td>2019-12-26</td>\n",
              "      <td>1261.30</td>\n",
              "      <td>1261.80</td>\n",
              "      <td>1240.70</td>\n",
              "      <td>1258.35</td>\n",
              "      <td>1258.75</td>\n",
              "      <td>1258.35</td>\n",
              "      <td>16949</td>\n",
              "      <td>1.060900e+10</td>\n",
              "      <td>26137000</td>\n",
              "      <td>839500</td>\n",
              "      <td>1251.65</td>\n",
              "    </tr>\n",
              "    <tr>\n",
              "      <th>2019-12-05</th>\n",
              "      <td>2019-12-26</td>\n",
              "      <td>1261.90</td>\n",
              "      <td>1264.90</td>\n",
              "      <td>1246.75</td>\n",
              "      <td>1250.85</td>\n",
              "      <td>1250.60</td>\n",
              "      <td>1250.85</td>\n",
              "      <td>16691</td>\n",
              "      <td>1.047229e+10</td>\n",
              "      <td>26031500</td>\n",
              "      <td>-105500</td>\n",
              "      <td>1245.60</td>\n",
              "    </tr>\n",
              "  </tbody>\n",
              "</table>\n",
              "<p>3661 rows × 12 columns</p>\n",
              "</div>"
            ],
            "text/plain": [
              "                Expiry     Open     High  ...  Open Interest  Change in OI  Underlying\n",
              "Date                                      ...                                         \n",
              "2005-01-03  2005-01-27   520.55   527.65  ...         578400         10400      525.25\n",
              "2005-01-04  2005-01-27   526.10   532.90  ...         664800         86400      519.45\n",
              "2005-01-05  2005-01-27   515.00   520.00  ...         652000        -12800      500.05\n",
              "2005-01-06  2005-01-27   504.00   504.00  ...         660800          8800      485.15\n",
              "2005-01-07  2005-01-27   489.50   499.00  ...         680000         19200      490.25\n",
              "...                ...      ...      ...  ...            ...           ...         ...\n",
              "2019-11-29  2019-12-26  1272.85  1282.15  ...       25279500         85000     1274.95\n",
              "2019-12-02  2019-12-26  1275.80  1280.00  ...       25272000         -7500     1265.75\n",
              "2019-12-03  2019-12-26  1270.55  1270.55  ...       25297500         25500     1255.40\n",
              "2019-12-04  2019-12-26  1261.30  1261.80  ...       26137000        839500     1251.65\n",
              "2019-12-05  2019-12-26  1261.90  1264.90  ...       26031500       -105500     1245.60\n",
              "\n",
              "[3661 rows x 12 columns]"
            ]
          },
          "metadata": {
            "tags": []
          },
          "execution_count": 94
        }
      ]
    },
    {
      "cell_type": "code",
      "metadata": {
        "id": "v_xn_EesAe9d",
        "colab_type": "code",
        "colab": {}
      },
      "source": [
        "import matplotlib.pyplot as plt \n"
      ],
      "execution_count": 0,
      "outputs": []
    },
    {
      "cell_type": "code",
      "metadata": {
        "id": "XOJC9BLPCKL-",
        "colab_type": "code",
        "colab": {
          "base_uri": "https://localhost:8080/",
          "height": 297
        },
        "outputId": "3f8bb640-ed93-41d0-ff87-88f207ef6a02"
      },
      "source": [
        "stock_fut[['Close','Open']].plot()\n"
      ],
      "execution_count": 107,
      "outputs": [
        {
          "output_type": "execute_result",
          "data": {
            "text/plain": [
              "<matplotlib.axes._subplots.AxesSubplot at 0x7f61f55a8dd8>"
            ]
          },
          "metadata": {
            "tags": []
          },
          "execution_count": 107
        },
        {
          "output_type": "display_data",
          "data": {
            "image/png": "[encoded data removed]",
            "text/plain": [
              "<Figure size 432x288 with 1 Axes>"
            ]
          },
          "metadata": {
            "tags": []
          }
        }
      ]
    },
    {
      "cell_type": "code",
      "metadata": {
        "id": "aMWeh-1rCUfI",
        "colab_type": "code",
        "colab": {}
      },
      "source": [
        ""
      ],
      "execution_count": 0,
      "outputs": []
    }
  ]
}